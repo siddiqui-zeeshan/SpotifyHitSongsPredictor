{
 "cells": [
  {
   "cell_type": "code",
   "execution_count": 1,
   "metadata": {},
   "outputs": [
    {
     "data": {
      "text/plain": [
       "'C:\\\\Users\\\\Acer'"
      ]
     },
     "execution_count": 1,
     "metadata": {},
     "output_type": "execute_result"
    }
   ],
   "source": [
    "import os\n",
    "import pandas as pd\n",
    "import numpy as np\n",
    "import spotipy\n",
    "from spotipy.oauth2 import SpotifyClientCredentials\n",
    "import time\n",
    "import sys\n",
    "import pprint\n",
    "from tqdm import tqdm"
   ]
  },
  {
   "cell_type": "code",
   "execution_count": 2,
   "metadata": {},
   "outputs": [],
   "source": [
    "os.chdir('C:\\\\Users\\\\Acer')\n",
    "os.getcwd()"
   ]
  },
  {
   "cell_type": "code",
   "execution_count": 21,
   "metadata": {},
   "outputs": [
    {
     "data": {
      "text/html": [
       "<div>\n",
       "<style scoped>\n",
       "    .dataframe tbody tr th:only-of-type {\n",
       "        vertical-align: middle;\n",
       "    }\n",
       "\n",
       "    .dataframe tbody tr th {\n",
       "        vertical-align: top;\n",
       "    }\n",
       "\n",
       "    .dataframe thead th {\n",
       "        text-align: right;\n",
       "    }\n",
       "</style>\n",
       "<table border=\"1\" class=\"dataframe\">\n",
       "  <thead>\n",
       "    <tr style=\"text-align: right;\">\n",
       "      <th></th>\n",
       "      <th>artist</th>\n",
       "      <th>track</th>\n",
       "      <th>publish_date</th>\n",
       "    </tr>\n",
       "  </thead>\n",
       "  <tbody>\n",
       "    <tr>\n",
       "      <th>0</th>\n",
       "      <td>The Elegants</td>\n",
       "      <td>Little Star</td>\n",
       "      <td>24-08-1958</td>\n",
       "    </tr>\n",
       "    <tr>\n",
       "      <th>1</th>\n",
       "      <td>Domenico Modugno</td>\n",
       "      <td>Nel Blu Dipinto Di Blu (Volaré)</td>\n",
       "      <td>24-08-1958</td>\n",
       "    </tr>\n",
       "    <tr>\n",
       "      <th>2</th>\n",
       "      <td>The Everly Brothers</td>\n",
       "      <td>Bird Dog</td>\n",
       "      <td>24-08-1958</td>\n",
       "    </tr>\n",
       "    <tr>\n",
       "      <th>3</th>\n",
       "      <td>Jimmy Clanton And His Rockets</td>\n",
       "      <td>Just A Dream</td>\n",
       "      <td>24-08-1958</td>\n",
       "    </tr>\n",
       "    <tr>\n",
       "      <th>4</th>\n",
       "      <td>Jack Scott</td>\n",
       "      <td>My True Love</td>\n",
       "      <td>24-08-1958</td>\n",
       "    </tr>\n",
       "  </tbody>\n",
       "</table>\n",
       "</div>"
      ],
      "text/plain": [
       "                          artist                            track publish_date\n",
       "0                   The Elegants                      Little Star   24-08-1958\n",
       "1               Domenico Modugno  Nel Blu Dipinto Di Blu (Volaré)   24-08-1958\n",
       "2            The Everly Brothers                         Bird Dog   24-08-1958\n",
       "3  Jimmy Clanton And His Rockets                     Just A Dream   24-08-1958\n",
       "4                     Jack Scott                     My True Love   24-08-1958"
      ]
     },
     "execution_count": 21,
     "metadata": {},
     "output_type": "execute_result"
    }
   ],
   "source": [
    "df2=pd.read_csv('C:\\\\Users\\\\Acer\\\\df2.csv')"
   ]
  },
  {
   "cell_type": "code",
   "execution_count": 22,
   "metadata": {},
   "outputs": [],
   "source": [
    "tracks=list(df2['track'])\n",
    "artists=list(df2['artist'])"
   ]
  },
  {
   "cell_type": "code",
   "execution_count": 12,
   "metadata": {},
   "outputs": [],
   "source": [
    "ids = [] # first get track ids\n",
    "\n",
    "cid = 'b0ea4607e2334eb3923e9dd5e8f12688'\n",
    "secret = '91d3f432199142e4ac39537e5cfe0fed'\n",
    "client_credentials_manager = SpotifyClientCredentials(client_id=cid, client_secret=secret)\n",
    "sp = spotipy.Spotify(client_credentials_manager = client_credentials_manager)\n",
    "\n",
    "for i in tqdm(tracks): \n",
    "    \n",
    "    if len(i) > 0:\n",
    "        result = sp.search(q=i, type='track')\n",
    "        try:\n",
    "            track_uri = result['tracks']['items'][0]['id']\n",
    "            ids.append(track_uri)\n",
    "            time.sleep(.5)\n",
    "        except:\n",
    "            ids.append('')\n",
    "            time.sleep(.5)\n",
    "    else:\n",
    "        ids.append('')"
   ]
  },
  {
   "cell_type": "code",
   "execution_count": 14,
   "metadata": {},
   "outputs": [],
   "source": [
    "frames = []\n",
    "for i in tqdm(ids): #get audio features from track ids\n",
    "    audio_features = sp.audio_features(tracks=i)\n",
    "    df = pd.DataFrame(audio_features)\n",
    "    frames.append(df)"
   ]
  },
  {
   "cell_type": "code",
   "execution_count": 26,
   "metadata": {},
   "outputs": [],
   "source": [
    "for i, frame in enumerate(frames):\n",
    "    frame['track_name'] = tracks[i]\n",
    "for i, frame in enumerate(frames):\n",
    "    frame['artist'] = artists[i]\n",
    "    \n",
    "df = pd.concat(frames)"
   ]
  },
  {
   "cell_type": "code",
   "execution_count": 27,
   "metadata": {},
   "outputs": [],
   "source": [
    "filename='Spotify Data.csv'\n",
    "df.to_csv(filename)\n",
    "print('saved!')"
   ]
  }
 ],
 "metadata": {
  "kernelspec": {
   "display_name": "Python 3",
   "language": "python",
   "name": "python3"
  },
  "language_info": {
   "codemirror_mode": {
    "name": "ipython",
    "version": 3
   },
   "file_extension": ".py",
   "mimetype": "text/x-python",
   "name": "python",
   "nbconvert_exporter": "python",
   "pygments_lexer": "ipython3",
   "version": "3.7.1"
  }
 },
 "nbformat": 4,
 "nbformat_minor": 2
}
