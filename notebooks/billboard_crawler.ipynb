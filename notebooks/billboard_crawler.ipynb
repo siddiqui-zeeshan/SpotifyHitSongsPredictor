{
 "cells": [
  {
   "cell_type": "code",
   "execution_count": 1,
   "metadata": {},
   "outputs": [
    {
     "name": "stdout",
     "output_type": "stream",
     "text": [
      "Collecting bs4\n",
      "  Downloading https://files.pythonhosted.org/packages/10/ed/7e8b97591f6f456174139ec089c769f89a94a1a4025fe967691de971f314/bs4-0.0.1.tar.gz\n",
      "Requirement already satisfied: beautifulsoup4 in c:\\programdata\\anaconda3\\lib\\site-packages (from bs4) (4.6.3)\n",
      "Building wheels for collected packages: bs4\n",
      "  Running setup.py bdist_wheel for bs4: started\n",
      "  Running setup.py bdist_wheel for bs4: finished with status 'done'\n",
      "  Stored in directory: C:\\Users\\Acer\\AppData\\Local\\pip\\Cache\\wheels\\a0\\b0\\b2\\4f80b9456b87abedbc0bf2d52235414c3467d8889be38dd472\n",
      "Successfully built bs4\n",
      "Installing collected packages: bs4\n",
      "Successfully installed bs4-0.0.1\n"
     ]
    }
   ],
   "source": [
    "!pip install bs4\n",
    "!pip install lxml\n",
    "!pip install html5lib"
   ]
  },
  {
   "cell_type": "code",
   "execution_count": 7,
   "metadata": {},
   "outputs": [],
   "source": [
    "from bs4 import BeautifulSoup\n",
    "import requests\n",
    "import pandas as pd \n",
    "import numpy as np"
   ]
  },
  {
   "cell_type": "code",
   "execution_count": 8,
   "metadata": {},
   "outputs": [],
   "source": [
    "dates=pd.date_range(start='1958-08-24', end='2010-10-01', freq='2W')\n",
    "a=list(dates.date)"
   ]
  },
  {
   "cell_type": "code",
   "execution_count": 9,
   "metadata": {
    "scrolled": true
   },
   "outputs": [],
   "source": [
    "urls=[]\n",
    "base=\"https://www.billboard.com/charts/hot-100/\"\n",
    "for i in a:\n",
    "    url=base+i.strftime(\"%Y-%m-%d\")\n",
    "    urls.append(url)"
   ]
  },
  {
   "cell_type": "code",
   "execution_count": 11,
   "metadata": {},
   "outputs": [],
   "source": [
    "def get_songs(soup):\n",
    "    x=soup.find_all('span', class_='chart-element__information__song text--truncate color--primary')\n",
    "    songs=[]\n",
    "    for i in x:\n",
    "        i=i.text.strip()\n",
    "        songs.append(i)\n",
    "    return songs"
   ]
  },
  {
   "cell_type": "code",
   "execution_count": 12,
   "metadata": {},
   "outputs": [],
   "source": [
    "def get_artists(soup):\n",
    "    x=soup.find_all('span', class_='chart-element__information__artist text--truncate color--secondary')\n",
    "    artists=[]\n",
    "    for i in x:\n",
    "        i=i.text.strip()\n",
    "        artists.append(i)\n",
    "    return artists"
   ]
  },
  {
   "cell_type": "code",
   "execution_count": null,
   "metadata": {},
   "outputs": [],
   "source": [
    "from dateutil import parser\n",
    "frames=[]\n",
    "\n",
    "for url in urls:\n",
    "    response=requests.get(url)\n",
    "    page=response.text\n",
    "    soup=BeautifulSoup(page, 'lxml')\n",
    "    songs=get_songs(soup)\n",
    "    artists=get_artists(soup)\n",
    "    dates = [parser.parse(url.split('/')[5])]*len(artists)\n",
    "    df = pd.DataFrame({'artist': artists, 'track': songs, 'publish_date': dates})\n",
    "    frames.append(df)"
   ]
  },
  {
   "cell_type": "code",
   "execution_count": null,
   "metadata": {
    "scrolled": true
   },
   "outputs": [],
   "source": [
    "df_merge = pd.concat(frames).reset_index(drop=True)\n",
    "df2 = df_merge.drop_duplicates(['track'], keep='first').reset_index(drop=True)\n"
   ]
  }
 ],
 "metadata": {
  "kernelspec": {
   "display_name": "Python 3",
   "language": "python",
   "name": "python3"
  },
  "language_info": {
   "codemirror_mode": {
    "name": "ipython",
    "version": 3
   },
   "file_extension": ".py",
   "mimetype": "text/x-python",
   "name": "python",
   "nbconvert_exporter": "python",
   "pygments_lexer": "ipython3",
   "version": "3.7.1"
  }
 },
 "nbformat": 4,
 "nbformat_minor": 2
}
